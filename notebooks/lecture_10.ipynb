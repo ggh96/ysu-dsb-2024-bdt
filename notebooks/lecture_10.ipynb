{
 "cells": [
  {
   "cell_type": "code",
   "execution_count": 9,
   "id": "initial_id",
   "metadata": {
    "collapsed": true,
    "ExecuteTime": {
     "end_time": "2024-11-06T16:03:57.794927Z",
     "start_time": "2024-11-06T16:03:57.773985Z"
    }
   },
   "outputs": [],
   "source": [
    "from pyspark.sql import SparkSession\n",
    "import pyspark.sql.functions as F "
   ]
  },
  {
   "cell_type": "code",
   "outputs": [],
   "source": [
    "spark = SparkSession\\\n",
    "    .builder\\\n",
    "    .appName(\"lecture-10-app\")\\\n",
    "    .master(\"local[8]\").getOrCreate()"
   ],
   "metadata": {
    "collapsed": false,
    "ExecuteTime": {
     "end_time": "2024-11-06T15:42:27.811614Z",
     "start_time": "2024-11-06T15:42:17.412844Z"
    }
   },
   "id": "3dde5c022c24102e",
   "execution_count": 2
  },
  {
   "cell_type": "code",
   "outputs": [
    {
     "data": {
      "text/plain": "<pyspark.sql.session.SparkSession at 0x2a17fb1ba20>",
      "text/html": "\n            <div>\n                <p><b>SparkSession - in-memory</b></p>\n                \n        <div>\n            <p><b>SparkContext</b></p>\n\n            <p><a href=\"http://10.11.26.119:4040\">Spark UI</a></p>\n\n            <dl>\n              <dt>Version</dt>\n                <dd><code>v3.3.0</code></dd>\n              <dt>Master</dt>\n                <dd><code>local[8]</code></dd>\n              <dt>AppName</dt>\n                <dd><code>lecture-10-app</code></dd>\n            </dl>\n        </div>\n        \n            </div>\n        "
     },
     "execution_count": 3,
     "metadata": {},
     "output_type": "execute_result"
    }
   ],
   "source": [
    "spark"
   ],
   "metadata": {
    "collapsed": false,
    "ExecuteTime": {
     "end_time": "2024-11-06T15:42:41.236736Z",
     "start_time": "2024-11-06T15:42:39.870295Z"
    }
   },
   "id": "84891a81c0475719",
   "execution_count": 3
  },
  {
   "cell_type": "code",
   "outputs": [
    {
     "data": {
      "text/plain": "'http://10.21.133.211:4040'"
     },
     "execution_count": 3,
     "metadata": {},
     "output_type": "execute_result"
    }
   ],
   "source": [
    "spark.sparkContext.uiWebUrl"
   ],
   "metadata": {
    "collapsed": false,
    "ExecuteTime": {
     "end_time": "2024-11-06T13:45:22.662211Z",
     "start_time": "2024-11-06T13:45:22.637471Z"
    }
   },
   "id": "11dd93828cc4064e",
   "execution_count": 3
  },
  {
   "cell_type": "code",
   "outputs": [],
   "source": [
    "df = spark.read.csv('../data/lecture_10/df_electronics.csv', header=True, inferSchema=True)"
   ],
   "metadata": {
    "collapsed": false,
    "ExecuteTime": {
     "end_time": "2024-11-06T15:48:33.201020Z",
     "start_time": "2024-11-06T15:48:32.313821Z"
    }
   },
   "id": "1d9de854dc367965",
   "execution_count": 5
  },
  {
   "cell_type": "code",
   "outputs": [
    {
     "name": "stdout",
     "output_type": "stream",
     "text": [
      "root\n",
      " |-- item_id: integer (nullable = true)\n",
      " |-- user_id: integer (nullable = true)\n",
      " |-- rating: double (nullable = true)\n",
      " |-- timestamp: timestamp (nullable = true)\n",
      " |-- model_attr: string (nullable = true)\n",
      " |-- category: string (nullable = true)\n",
      " |-- brand: string (nullable = true)\n",
      " |-- year: integer (nullable = true)\n",
      " |-- user_attr: string (nullable = true)\n",
      " |-- split: integer (nullable = true)\n"
     ]
    }
   ],
   "source": [
    "df.printSchema()"
   ],
   "metadata": {
    "collapsed": false,
    "ExecuteTime": {
     "end_time": "2024-11-06T15:52:39.603247Z",
     "start_time": "2024-11-06T15:52:39.593158Z"
    }
   },
   "id": "e32debaf307d4c1b",
   "execution_count": 6
  },
  {
   "cell_type": "code",
   "outputs": [
    {
     "name": "stdout",
     "output_type": "stream",
     "text": [
      "-RECORD 0----------------------------\n",
      " item_id    | 0                      \n",
      " user_id    | 0                      \n",
      " rating     | 5.0                    \n",
      " timestamp  | 1999-06-13 00:00:00    \n",
      " model_attr | Female                 \n",
      " category   | Portable Audio & Video \n",
      " brand      | null                   \n",
      " year       | 1999                   \n",
      " user_attr  | null                   \n",
      " split      | 0                      \n",
      "only showing top 1 row\n"
     ]
    }
   ],
   "source": [
    "df.show(1, False, True)"
   ],
   "metadata": {
    "collapsed": false,
    "ExecuteTime": {
     "end_time": "2024-11-06T15:53:38.962552Z",
     "start_time": "2024-11-06T15:53:38.619501Z"
    }
   },
   "id": "81072331e6459001",
   "execution_count": 7
  },
  {
   "cell_type": "code",
   "outputs": [
    {
     "data": {
      "text/plain": "8"
     },
     "execution_count": 8,
     "metadata": {},
     "output_type": "execute_result"
    }
   ],
   "source": [
    "df.rdd.getNumPartitions()"
   ],
   "metadata": {
    "collapsed": false,
    "ExecuteTime": {
     "end_time": "2024-11-06T15:54:23.331782Z",
     "start_time": "2024-11-06T15:54:23.242455Z"
    }
   },
   "id": "8ab8050b58ecb7ed",
   "execution_count": 8
  },
  {
   "cell_type": "code",
   "outputs": [
    {
     "name": "stdout",
     "output_type": "stream",
     "text": [
      "+-----------------+\n",
      "|        avgRating|\n",
      "+-----------------+\n",
      "|4.051482109959055|\n",
      "+-----------------+\n"
     ]
    }
   ],
   "source": [
    "df.select(F.avg(F.col('rating')).alias('avgRating')).show()"
   ],
   "metadata": {
    "collapsed": false,
    "ExecuteTime": {
     "end_time": "2024-11-06T16:04:40.211655Z",
     "start_time": "2024-11-06T16:04:39.149704Z"
    }
   },
   "id": "f2cd91a97f0df03d",
   "execution_count": 11
  },
  {
   "cell_type": "code",
   "outputs": [
    {
     "data": {
      "text/plain": "174506"
     },
     "execution_count": 13,
     "metadata": {},
     "output_type": "execute_result"
    }
   ],
   "source": [
    "df.join(\n",
    "    df.select('user_id','timestamp').withColumnRenamed('timestamp', 'timestamp_prev'), \n",
    "    on=['user_id'], how='inner')\\\n",
    "    .filter(F.col('timestamp') > F.col('timestamp_prev')\n",
    "            ).count()"
   ],
   "metadata": {
    "collapsed": false,
    "ExecuteTime": {
     "end_time": "2024-11-06T16:24:31.322838Z",
     "start_time": "2024-11-06T16:24:25.892859Z"
    }
   },
   "id": "15a8bafac67c0f5f",
   "execution_count": 13
  },
  {
   "cell_type": "code",
   "outputs": [
    {
     "data": {
      "text/plain": "DataFrame[user_id: int, item_id: int, rating: double, timestamp: timestamp, model_attr: string, category: string, brand: string, year: int, user_attr: string, split: int, timestamp_prev: timestamp]"
     },
     "execution_count": 14,
     "metadata": {},
     "output_type": "execute_result"
    }
   ],
   "source": [
    "df.join(\n",
    "    df.select('user_id','timestamp').withColumnRenamed('timestamp', 'timestamp_prev'), \n",
    "    on=['user_id'], how='inner')\\\n",
    "    .filter(F.col('timestamp') > F.col('timestamp_prev')\n",
    "            )"
   ],
   "metadata": {
    "collapsed": false,
    "ExecuteTime": {
     "end_time": "2024-11-06T16:34:35.176072Z",
     "start_time": "2024-11-06T16:34:35.080821Z"
    }
   },
   "id": "1574434f229cd85e",
   "execution_count": 14
  },
  {
   "cell_type": "code",
   "outputs": [],
   "source": [],
   "metadata": {
    "collapsed": false
   },
   "id": "a90d9efeb2401abf"
  }
 ],
 "metadata": {
  "kernelspec": {
   "display_name": "Python 3",
   "language": "python",
   "name": "python3"
  },
  "language_info": {
   "codemirror_mode": {
    "name": "ipython",
    "version": 2
   },
   "file_extension": ".py",
   "mimetype": "text/x-python",
   "name": "python",
   "nbconvert_exporter": "python",
   "pygments_lexer": "ipython2",
   "version": "2.7.6"
  }
 },
 "nbformat": 4,
 "nbformat_minor": 5
}
