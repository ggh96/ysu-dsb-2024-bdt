{
 "cells": [
  {
   "cell_type": "code",
   "execution_count": 25,
   "id": "initial_id",
   "metadata": {
    "collapsed": true,
    "ExecuteTime": {
     "end_time": "2024-11-27T16:44:44.609995Z",
     "start_time": "2024-11-27T16:44:44.603653Z"
    }
   },
   "outputs": [],
   "source": [
    "from pyspark.sql import SparkSession\n",
    "import pyspark.sql.functions as F\n",
    "from pyspark.sql.types import *"
   ]
  },
  {
   "cell_type": "code",
   "outputs": [],
   "source": [
    "spark = SparkSession\\\n",
    "    .builder\\\n",
    "    .appName(\"lecture-12-app\")\\\n",
    "    .master(\"local[8]\").getOrCreate()"
   ],
   "metadata": {
    "collapsed": false,
    "ExecuteTime": {
     "end_time": "2024-11-27T16:30:13.595443Z",
     "start_time": "2024-11-27T16:30:05.027448Z"
    }
   },
   "id": "485af030dbb6da59",
   "execution_count": 2
  },
  {
   "cell_type": "code",
   "outputs": [],
   "source": [
    "# user defined functions\n",
    "# caching\n",
    "# broadcast\n",
    "# complex schema"
   ],
   "metadata": {
    "collapsed": false,
    "ExecuteTime": {
     "end_time": "2024-11-27T16:31:08.196582Z",
     "start_time": "2024-11-27T16:31:08.192368Z"
    }
   },
   "id": "153ce642f3e6f56e",
   "execution_count": 3
  },
  {
   "cell_type": "code",
   "outputs": [],
   "source": [
    "from pyspark.sql.functions import udf "
   ],
   "metadata": {
    "collapsed": false,
    "ExecuteTime": {
     "end_time": "2024-11-27T16:31:26.939090Z",
     "start_time": "2024-11-27T16:31:26.929374Z"
    }
   },
   "id": "446a4f8213a2dfdb",
   "execution_count": 4
  },
  {
   "cell_type": "code",
   "outputs": [],
   "source": [
    "df = spark.read.csv('../data/hm/exam/transactions.csv', header=True, inferSchema=True)"
   ],
   "metadata": {
    "collapsed": false,
    "ExecuteTime": {
     "end_time": "2024-11-27T16:31:57.908589Z",
     "start_time": "2024-11-27T16:31:54.312933Z"
    }
   },
   "id": "19a3c5040355a6af",
   "execution_count": 6
  },
  {
   "cell_type": "code",
   "outputs": [
    {
     "name": "stdout",
     "output_type": "stream",
     "text": [
      "+-------------------+--------------------+----------+--------------------+----------------+\n",
      "|              t_dat|         customer_id|article_id|               price|sales_channel_id|\n",
      "+-------------------+--------------------+----------+--------------------+----------------+\n",
      "|2019-03-01 00:00:00|0002db27a1651998a...| 688873010|0.033881355932203386|               1|\n",
      "|2019-03-01 00:00:00|0031a3ee9e817a626...| 562245046|0.030508474576271188|               2|\n",
      "|2019-03-01 00:00:00|00daef2733086cfb0...| 715124001|0.020322033898305086|               2|\n",
      "|2019-03-01 00:00:00|0101910585fb22dc4...| 698276001|0.050830508474576264|               2|\n",
      "|2019-03-01 00:00:00|012cfe5d988e9635b...| 700345001| 0.04794915254237288|               2|\n",
      "+-------------------+--------------------+----------+--------------------+----------------+\n"
     ]
    }
   ],
   "source": [
    "df.show(5)"
   ],
   "metadata": {
    "collapsed": false,
    "ExecuteTime": {
     "end_time": "2024-11-27T16:32:07.152968Z",
     "start_time": "2024-11-27T16:32:06.987927Z"
    }
   },
   "id": "1e39902f1d12d5b5",
   "execution_count": 7
  },
  {
   "cell_type": "code",
   "outputs": [
    {
     "data": {
      "text/plain": "'http://10.11.13.136:4040'"
     },
     "execution_count": 35,
     "metadata": {},
     "output_type": "execute_result"
    }
   ],
   "source": [
    "spark.sparkContext.uiWebUrl"
   ],
   "metadata": {
    "collapsed": false,
    "ExecuteTime": {
     "end_time": "2024-11-27T16:53:10.909593Z",
     "start_time": "2024-11-27T16:53:10.894171Z"
    }
   },
   "id": "49ae6671c745dbc1",
   "execution_count": 35
  },
  {
   "cell_type": "code",
   "outputs": [],
   "source": [
    "agg = df.select(F.min(F.col('price')), F.max(F.col('price'))).toPandas()"
   ],
   "metadata": {
    "collapsed": false,
    "ExecuteTime": {
     "end_time": "2024-11-27T16:35:03.596022Z",
     "start_time": "2024-11-27T16:35:01.470409Z"
    }
   },
   "id": "f462a307d201618f",
   "execution_count": 8
  },
  {
   "cell_type": "code",
   "outputs": [
    {
     "data": {
      "text/plain": "   min(price)  max(price)\n0    0.000322     0.50678",
      "text/html": "<div>\n<style scoped>\n    .dataframe tbody tr th:only-of-type {\n        vertical-align: middle;\n    }\n\n    .dataframe tbody tr th {\n        vertical-align: top;\n    }\n\n    .dataframe thead th {\n        text-align: right;\n    }\n</style>\n<table border=\"1\" class=\"dataframe\">\n  <thead>\n    <tr style=\"text-align: right;\">\n      <th></th>\n      <th>min(price)</th>\n      <th>max(price)</th>\n    </tr>\n  </thead>\n  <tbody>\n    <tr>\n      <th>0</th>\n      <td>0.000322</td>\n      <td>0.50678</td>\n    </tr>\n  </tbody>\n</table>\n</div>"
     },
     "execution_count": 9,
     "metadata": {},
     "output_type": "execute_result"
    }
   ],
   "source": [
    "agg"
   ],
   "metadata": {
    "collapsed": false,
    "ExecuteTime": {
     "end_time": "2024-11-27T16:35:03.611146Z",
     "start_time": "2024-11-27T16:35:03.597079Z"
    }
   },
   "id": "eac13807200088ad",
   "execution_count": 9
  },
  {
   "cell_type": "code",
   "outputs": [],
   "source": [
    "pdf = df.select('price').toPandas()"
   ],
   "metadata": {
    "collapsed": false,
    "ExecuteTime": {
     "end_time": "2024-11-27T16:36:11.604148Z",
     "start_time": "2024-11-27T16:36:10.031052Z"
    }
   },
   "id": "a385f1f6ec352cc0",
   "execution_count": 10
  },
  {
   "cell_type": "code",
   "outputs": [
    {
     "data": {
      "text/plain": "<AxesSubplot:>"
     },
     "execution_count": 15,
     "metadata": {},
     "output_type": "execute_result"
    },
    {
     "data": {
      "text/plain": "<Figure size 640x480 with 1 Axes>",
      "image/png": "[encoded data removed]"
     },
     "metadata": {},
     "output_type": "display_data"
    }
   ],
   "source": [
    "import numpy as np\n",
    "np.log(pdf['price']).hist(bins=30)"
   ],
   "metadata": {
    "collapsed": false,
    "ExecuteTime": {
     "end_time": "2024-11-27T16:38:09.455175Z",
     "start_time": "2024-11-27T16:38:09.332567Z"
    }
   },
   "id": "ed33e8a136ad097a",
   "execution_count": 15
  },
  {
   "cell_type": "code",
   "outputs": [],
   "source": [
    "from math import sqrt"
   ],
   "metadata": {
    "collapsed": false,
    "ExecuteTime": {
     "end_time": "2024-11-27T16:41:47.720654Z",
     "start_time": "2024-11-27T16:41:47.712218Z"
    }
   },
   "id": "4dfb11d5d72902c6",
   "execution_count": 17
  },
  {
   "cell_type": "code",
   "outputs": [
    {
     "data": {
      "text/plain": "0         0.000000\n1         0.000000\n2         0.000000\n3         0.225456\n4         0.000000\n            ...   \n482184    0.000000\n482185    0.000000\n482186    0.000000\n482187    0.000000\n482188    0.000000\nName: price, Length: 482189, dtype: float64"
     },
     "execution_count": 23,
     "metadata": {},
     "output_type": "execute_result"
    }
   ],
   "source": [
    "pdf['price'].apply(lambda x: sqrt(x) if x > 0.05 else 0)"
   ],
   "metadata": {
    "collapsed": false,
    "ExecuteTime": {
     "end_time": "2024-11-27T16:42:40.671303Z",
     "start_time": "2024-11-27T16:42:40.553541Z"
    }
   },
   "id": "d5bc78ef4ede2c07",
   "execution_count": 23
  },
  {
   "cell_type": "code",
   "outputs": [],
   "source": [],
   "metadata": {
    "collapsed": false
   },
   "id": "89a430e02d094822"
  },
  {
   "cell_type": "code",
   "outputs": [],
   "source": [
    "@udf(FloatType())\n",
    "def log_1p(x):\n",
    "    return x+1\n"
   ],
   "metadata": {
    "collapsed": false,
    "ExecuteTime": {
     "end_time": "2024-11-27T16:46:43.214792Z",
     "start_time": "2024-11-27T16:46:43.208369Z"
    }
   },
   "id": "a69adccfa5e18b50",
   "execution_count": 31
  },
  {
   "cell_type": "code",
   "outputs": [
    {
     "name": "stdout",
     "output_type": "stream",
     "text": [
      "root\n",
      " |-- t_dat: timestamp (nullable = true)\n",
      " |-- customer_id: string (nullable = true)\n",
      " |-- article_id: integer (nullable = true)\n",
      " |-- price: double (nullable = true)\n",
      " |-- sales_channel_id: integer (nullable = true)\n",
      " |-- log1p_price: float (nullable = true)\n"
     ]
    }
   ],
   "source": [
    "df.printSchema()"
   ],
   "metadata": {
    "collapsed": false,
    "ExecuteTime": {
     "end_time": "2024-11-27T16:46:44.089722Z",
     "start_time": "2024-11-27T16:46:44.077994Z"
    }
   },
   "id": "e9cc018c0b626465",
   "execution_count": 32
  },
  {
   "cell_type": "code",
   "outputs": [],
   "source": [
    "df = df.withColumn(\"log1p_price\", log_1p(df.price))"
   ],
   "metadata": {
    "collapsed": false,
    "ExecuteTime": {
     "end_time": "2024-11-27T16:46:45.089136Z",
     "start_time": "2024-11-27T16:46:45.056898Z"
    }
   },
   "id": "e8c241e0a436af6c",
   "execution_count": 33
  },
  {
   "cell_type": "markdown",
   "source": [],
   "metadata": {
    "collapsed": false
   },
   "id": "2bf55f1b8144e8c8"
  },
  {
   "cell_type": "code",
   "outputs": [
    {
     "name": "stdout",
     "output_type": "stream",
     "text": [
      "+-----------------+\n",
      "| sum(log1p_price)|\n",
      "+-----------------+\n",
      "|495657.2250497341|\n",
      "+-----------------+\n"
     ]
    }
   ],
   "source": [
    "df.withColumn(\"log1p_price\", log_1p(df.price)).select(F.sum('log1p_price')).show()"
   ],
   "metadata": {
    "collapsed": false,
    "ExecuteTime": {
     "end_time": "2024-11-27T16:54:33.786800Z",
     "start_time": "2024-11-27T16:54:30.001002Z"
    }
   },
   "id": "939054bbe39206e6",
   "execution_count": 37
  },
  {
   "cell_type": "code",
   "outputs": [
    {
     "name": "stdout",
     "output_type": "stream",
     "text": [
      "+-------------------+--------------------+----------+--------------------+----------------+-----------+\n",
      "|              t_dat|         customer_id|article_id|               price|sales_channel_id|log1p_price|\n",
      "+-------------------+--------------------+----------+--------------------+----------------+-----------+\n",
      "|2019-03-01 00:00:00|0002db27a1651998a...| 688873010|0.033881355932203386|               1|  1.0338813|\n",
      "|2019-03-01 00:00:00|0031a3ee9e817a626...| 562245046|0.030508474576271188|               2|  1.0305085|\n",
      "|2019-03-01 00:00:00|00daef2733086cfb0...| 715124001|0.020322033898305086|               2|  1.0203221|\n",
      "|2019-03-01 00:00:00|0101910585fb22dc4...| 698276001|0.050830508474576264|               2|  1.0508305|\n",
      "|2019-03-01 00:00:00|012cfe5d988e9635b...| 700345001| 0.04794915254237288|               2|  1.0479492|\n",
      "|2019-03-01 00:00:00|0136908b67875e99e...| 576775006| 0.01523728813559322|               2|  1.0152373|\n",
      "|2019-03-01 00:00:00|01c51fc769136d663...| 685812002|0.033881355932203386|               1|  1.0338813|\n",
      "|2019-03-01 00:00:00|01fbdad80e1e11ce3...| 610776040|0.008457627118644067|               2|  1.0084577|\n",
      "|2019-03-01 00:00:00|0254772be48717879...| 509629008| 0.01523728813559322|               1|  1.0152373|\n",
      "|2019-03-01 00:00:00|031514905d5870ecf...| 684209001|0.025406779661016947|               2|  1.0254068|\n",
      "|2019-03-01 00:00:00|0326c19969d66fc13...| 708626001|0.033881355932203386|               2|  1.0338813|\n",
      "|2019-03-01 00:00:00|0326c19969d66fc13...| 708626001|0.033881355932203386|               2|  1.0338813|\n",
      "|2019-03-01 00:00:00|0326c19969d66fc13...| 554450036|0.033881355932203386|               2|  1.0338813|\n",
      "|2019-03-01 00:00:00|0356e0d1652e743e1...| 762762002|0.015118644067796609|               2|  1.0151186|\n",
      "|2019-03-01 00:00:00|03a3533b8d81b303b...| 750213001|0.033881355932203386|               2|  1.0338813|\n",
      "|2019-03-01 00:00:00|03afdd205caa12aa9...| 399061012|0.033881355932203386|               2|  1.0338813|\n",
      "|2019-03-01 00:00:00|03b7013ee70597616...| 717879016|0.050830508474576264|               2|  1.0508305|\n",
      "|2019-03-01 00:00:00|03c330f5982738c6b...| 573085019|0.022016949152542376|               2|   1.022017|\n",
      "|2019-03-01 00:00:00|04858fff65a58eea2...| 763509001|0.013542372881355931|               1|  1.0135424|\n",
      "|2019-03-01 00:00:00|04a03dd7fdaebefaa...| 762762002|0.016932203389830508|               2|  1.0169322|\n",
      "+-------------------+--------------------+----------+--------------------+----------------+-----------+\n"
     ]
    }
   ],
   "source": [
    "df.show()"
   ],
   "metadata": {
    "collapsed": false,
    "ExecuteTime": {
     "end_time": "2024-11-27T16:46:46.204252Z",
     "start_time": "2024-11-27T16:46:45.538452Z"
    }
   },
   "id": "3c7ea4705069e163",
   "execution_count": 34
  },
  {
   "cell_type": "code",
   "outputs": [],
   "source": [
    "# cache | persist"
   ],
   "metadata": {
    "collapsed": false,
    "ExecuteTime": {
     "end_time": "2024-11-27T16:57:44.345690Z",
     "start_time": "2024-11-27T16:57:44.329990Z"
    }
   },
   "id": "51a8a0952f8afe94",
   "execution_count": 38
  },
  {
   "cell_type": "code",
   "outputs": [],
   "source": [
    "df = spark.read.csv('../data/hm/raw/transactions_train.csv', header=True, inferSchema=True)"
   ],
   "metadata": {
    "collapsed": false,
    "ExecuteTime": {
     "end_time": "2024-11-27T17:03:11.695361Z",
     "start_time": "2024-11-27T17:03:01.643863Z"
    }
   },
   "id": "b55e82c122e7cae9",
   "execution_count": 39
  },
  {
   "cell_type": "code",
   "outputs": [],
   "source": [
    "df_ = df.select('price')"
   ],
   "metadata": {
    "collapsed": false,
    "ExecuteTime": {
     "end_time": "2024-11-27T17:03:46.823510Z",
     "start_time": "2024-11-27T17:03:46.803602Z"
    }
   },
   "id": "8c6c5b99c336cc83",
   "execution_count": 40
  },
  {
   "cell_type": "code",
   "outputs": [],
   "source": [
    "df_ = df_.cache()"
   ],
   "metadata": {
    "collapsed": false,
    "ExecuteTime": {
     "end_time": "2024-11-27T17:04:02.727216Z",
     "start_time": "2024-11-27T17:04:02.683959Z"
    }
   },
   "id": "f5ed522d795bea27",
   "execution_count": 41
  },
  {
   "cell_type": "code",
   "outputs": [
    {
     "name": "stdout",
     "output_type": "stream",
     "text": [
      "+-----------------+\n",
      "|       sum(price)|\n",
      "+-----------------+\n",
      "|884645.9740490204|\n",
      "+-----------------+\n"
     ]
    }
   ],
   "source": [
    "df_.select(F.sum('price')).show()"
   ],
   "metadata": {
    "collapsed": false,
    "ExecuteTime": {
     "end_time": "2024-11-27T17:04:38.919444Z",
     "start_time": "2024-11-27T17:04:31.482737Z"
    }
   },
   "id": "e7cc817e59f9598b",
   "execution_count": 42
  },
  {
   "cell_type": "code",
   "outputs": [
    {
     "name": "stdout",
     "output_type": "stream",
     "text": [
      "+-----------------+\n",
      "|       sum(price)|\n",
      "+-----------------+\n",
      "|884645.9740490204|\n",
      "+-----------------+\n"
     ]
    }
   ],
   "source": [
    "df_.select(F.sum('price')).show()"
   ],
   "metadata": {
    "collapsed": false,
    "ExecuteTime": {
     "end_time": "2024-11-27T17:04:48.527912Z",
     "start_time": "2024-11-27T17:04:48.310473Z"
    }
   },
   "id": "6c3ca38e4c4fafcc",
   "execution_count": 43
  },
  {
   "cell_type": "markdown",
   "source": [],
   "metadata": {
    "collapsed": false
   },
   "id": "a07e5d11c0d577e9"
  },
  {
   "cell_type": "code",
   "outputs": [
    {
     "name": "stdout",
     "output_type": "stream",
     "text": [
      "+-----------------+\n",
      "|       sum(price)|\n",
      "+-----------------+\n",
      "|884645.9740490204|\n",
      "+-----------------+\n"
     ]
    }
   ],
   "source": [
    "df_.select(F.sum('price')).show()"
   ],
   "metadata": {
    "collapsed": false,
    "ExecuteTime": {
     "end_time": "2024-11-27T17:04:52.750446Z",
     "start_time": "2024-11-27T17:04:52.565873Z"
    }
   },
   "id": "dd21f58124a1642f",
   "execution_count": 44
  },
  {
   "cell_type": "code",
   "outputs": [],
   "source": [
    "df_ = df_.unpersist()"
   ],
   "metadata": {
    "collapsed": false,
    "ExecuteTime": {
     "end_time": "2024-11-27T17:05:06.871755Z",
     "start_time": "2024-11-27T17:05:06.850870Z"
    }
   },
   "id": "caa3dcfacdc47128",
   "execution_count": 45
  },
  {
   "cell_type": "code",
   "outputs": [
    {
     "name": "stdout",
     "output_type": "stream",
     "text": [
      "+-----------------+\n",
      "|       sum(price)|\n",
      "+-----------------+\n",
      "|884645.9740490204|\n",
      "+-----------------+\n"
     ]
    }
   ],
   "source": [
    "df_.select(F.sum('price')).show()"
   ],
   "metadata": {
    "collapsed": false,
    "ExecuteTime": {
     "end_time": "2024-11-27T17:05:20.246747Z",
     "start_time": "2024-11-27T17:05:13.182224Z"
    }
   },
   "id": "1a7a4afbbedb1ba3",
   "execution_count": 46
  },
  {
   "cell_type": "code",
   "outputs": [],
   "source": [
    "# F.broadcast()\n",
    "# MapType() ArrayType() "
   ],
   "metadata": {
    "collapsed": false
   },
   "id": "e9dd2bd12c19b5c9"
  }
 ],
 "metadata": {
  "kernelspec": {
   "display_name": "Python 3",
   "language": "python",
   "name": "python3"
  },
  "language_info": {
   "codemirror_mode": {
    "name": "ipython",
    "version": 2
   },
   "file_extension": ".py",
   "mimetype": "text/x-python",
   "name": "python",
   "nbconvert_exporter": "python",
   "pygments_lexer": "ipython2",
   "version": "2.7.6"
  }
 },
 "nbformat": 4,
 "nbformat_minor": 5
}
