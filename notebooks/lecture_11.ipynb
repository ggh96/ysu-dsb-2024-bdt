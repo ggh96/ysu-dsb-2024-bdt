{
 "cells": [
  {
   "cell_type": "code",
   "outputs": [],
   "source": [
    "from pyspark.sql import SparkSession\n",
    "import pyspark.sql.functions as F\n",
    "from pyspark.sql.types import DateType"
   ],
   "metadata": {
    "collapsed": false,
    "ExecuteTime": {
     "end_time": "2024-11-20T17:00:58.118600Z",
     "start_time": "2024-11-20T17:00:58.105991Z"
    }
   },
   "id": "63b67aabe71351a9",
   "execution_count": 45
  },
  {
   "cell_type": "code",
   "outputs": [],
   "source": [
    "spark = SparkSession\\\n",
    "    .builder\\\n",
    "    .appName(\"lecture-11-app\")\\\n",
    "    .master(\"local[8]\").getOrCreate()"
   ],
   "metadata": {
    "collapsed": false,
    "ExecuteTime": {
     "end_time": "2024-11-20T16:18:30.862164Z",
     "start_time": "2024-11-20T16:18:22.366294Z"
    }
   },
   "id": "13e7bc681c14dd6f",
   "execution_count": 2
  },
  {
   "cell_type": "code",
   "outputs": [
    {
     "data": {
      "text/plain": "<pyspark.sql.session.SparkSession at 0x1e7a7f56dd8>",
      "text/html": "\n            <div>\n                <p><b>SparkSession - in-memory</b></p>\n                \n        <div>\n            <p><b>SparkContext</b></p>\n\n            <p><a href=\"http://10.11.8.246:4041\">Spark UI</a></p>\n\n            <dl>\n              <dt>Version</dt>\n                <dd><code>v3.3.0</code></dd>\n              <dt>Master</dt>\n                <dd><code>local[8]</code></dd>\n              <dt>AppName</dt>\n                <dd><code>lecture-11-app</code></dd>\n            </dl>\n        </div>\n        \n            </div>\n        "
     },
     "execution_count": 3,
     "metadata": {},
     "output_type": "execute_result"
    }
   ],
   "source": [
    "spark"
   ],
   "metadata": {
    "collapsed": false,
    "ExecuteTime": {
     "end_time": "2024-11-20T16:18:31.495775Z",
     "start_time": "2024-11-20T16:18:30.863169Z"
    }
   },
   "id": "a8ded0e1791bf2a4",
   "execution_count": 3
  },
  {
   "cell_type": "code",
   "outputs": [
    {
     "data": {
      "text/plain": "'http://10.11.8.246:4041'"
     },
     "execution_count": 4,
     "metadata": {},
     "output_type": "execute_result"
    }
   ],
   "source": [
    "spark.sparkContext.uiWebUrl"
   ],
   "metadata": {
    "collapsed": false,
    "ExecuteTime": {
     "end_time": "2024-11-20T16:18:31.511540Z",
     "start_time": "2024-11-20T16:18:31.496825Z"
    }
   },
   "id": "9c0143c0eabc7bca",
   "execution_count": 4
  },
  {
   "cell_type": "code",
   "outputs": [],
   "source": [
    "df = spark.read.csv('../data/hm/raw/transactions_train.csv', header=True, inferSchema=True)"
   ],
   "metadata": {
    "collapsed": false,
    "ExecuteTime": {
     "end_time": "2024-11-20T16:35:03.110487Z",
     "start_time": "2024-11-20T16:34:53.333408Z"
    }
   },
   "id": "e16f29f8d0f21e90",
   "execution_count": 19
  },
  {
   "cell_type": "code",
   "outputs": [
    {
     "data": {
      "text/plain": "26"
     },
     "execution_count": 20,
     "metadata": {},
     "output_type": "execute_result"
    }
   ],
   "source": [
    "df.rdd.getNumPartitions()"
   ],
   "metadata": {
    "collapsed": false,
    "ExecuteTime": {
     "end_time": "2024-11-20T16:35:21.042452Z",
     "start_time": "2024-11-20T16:35:21.016891Z"
    }
   },
   "id": "35dfb0573d3de511",
   "execution_count": 20
  },
  {
   "cell_type": "code",
   "outputs": [
    {
     "name": "stdout",
     "output_type": "stream",
     "text": [
      "+--------------------+\n",
      "|          avg(price)|\n",
      "+--------------------+\n",
      "|0.027829273856928176|\n",
      "+--------------------+\n"
     ]
    }
   ],
   "source": [
    "df.repartition(64).select(F.avg('price')).show()"
   ],
   "metadata": {
    "collapsed": false,
    "ExecuteTime": {
     "end_time": "2024-11-20T16:39:25.685956Z",
     "start_time": "2024-11-20T16:39:15.527348Z"
    }
   },
   "id": "b00b86e928954e24",
   "execution_count": 22
  },
  {
   "cell_type": "code",
   "outputs": [
    {
     "data": {
      "text/plain": "482189"
     },
     "execution_count": 10,
     "metadata": {},
     "output_type": "execute_result"
    }
   ],
   "source": [
    "df.count()"
   ],
   "metadata": {
    "collapsed": false,
    "ExecuteTime": {
     "end_time": "2024-11-20T16:23:58.749746Z",
     "start_time": "2024-11-20T16:23:58.546931Z"
    }
   },
   "id": "4efb71cc6ecf8265",
   "execution_count": 10
  },
  {
   "cell_type": "code",
   "outputs": [],
   "source": [
    "df = spark.read.csv('../data/hm/exam/transactions.csv', header=True, inferSchema=True)"
   ],
   "metadata": {
    "collapsed": false,
    "ExecuteTime": {
     "end_time": "2024-11-20T16:55:46.867964Z",
     "start_time": "2024-11-20T16:55:46.451310Z"
    }
   },
   "id": "18d25fe71449283a",
   "execution_count": 36
  },
  {
   "cell_type": "code",
   "outputs": [],
   "source": [
    "df = spark.read.csv('../data/hm/raw/transactions_train.csv', header=True, inferSchema=True)"
   ],
   "metadata": {
    "collapsed": false,
    "ExecuteTime": {
     "end_time": "2024-11-20T16:48:12.375470Z",
     "start_time": "2024-11-20T16:48:02.842145Z"
    }
   },
   "id": "a96ef7e7cbd43d15",
   "execution_count": 27
  },
  {
   "cell_type": "code",
   "outputs": [
    {
     "data": {
      "text/plain": "1362281"
     },
     "execution_count": 28,
     "metadata": {},
     "output_type": "execute_result"
    }
   ],
   "source": [
    "df.select('customer_id').distinct().count()"
   ],
   "metadata": {
    "collapsed": false,
    "ExecuteTime": {
     "end_time": "2024-11-20T16:48:23.343864Z",
     "start_time": "2024-11-20T16:48:14.230610Z"
    }
   },
   "id": "2f9ac7a5ac00609",
   "execution_count": 28
  },
  {
   "cell_type": "code",
   "outputs": [],
   "source": [
    "agg = df.groupby('customer_id').count().orderBy('count', ascending=False).toPandas()"
   ],
   "metadata": {
    "collapsed": false,
    "ExecuteTime": {
     "end_time": "2024-11-20T16:49:19.411529Z",
     "start_time": "2024-11-20T16:49:04.023858Z"
    }
   },
   "id": "4b9d561ec66dbd08",
   "execution_count": 29
  },
  {
   "cell_type": "code",
   "outputs": [
    {
     "data": {
      "text/plain": "                                               customer_id  count\n0        be1981ab818cf4ef6765b2ecaea7a2cbf14ccd6e8a7ee9...   1895\n1        b4db5e5259234574edfff958e170fe3a5e13b6f146752c...   1441\n2        49beaacac0c7801c2ce2d189efe525fe80b5d37e46ed05...   1364\n3        a65f77281a528bf5c1e9f270141d601d116e1df33bf9df...   1361\n4        cd04ec2726dd58a8c753e0d6423e57716fd9ebcf2f14ed...   1237\n...                                                    ...    ...\n1362276  3b9f6e7907566378f605ca45ced5c4d08df27091f223a2...      1\n1362277  58e3dd1e66addaf7b540f88a0dc77cabd166d8a3daea0c...      1\n1362278  686cd3eff5482ce6d510378af0fe47f1fe2fda3edd5da2...      1\n1362279  b3388e406487258ea5182e7d5296b718ce2ecdb30b5922...      1\n1362280  f657404baef05209e714bd5e6a9ea28fa7ef3ec6b49166...      1\n\n[1362281 rows x 2 columns]",
      "text/html": "<div>\n<style scoped>\n    .dataframe tbody tr th:only-of-type {\n        vertical-align: middle;\n    }\n\n    .dataframe tbody tr th {\n        vertical-align: top;\n    }\n\n    .dataframe thead th {\n        text-align: right;\n    }\n</style>\n<table border=\"1\" class=\"dataframe\">\n  <thead>\n    <tr style=\"text-align: right;\">\n      <th></th>\n      <th>customer_id</th>\n      <th>count</th>\n    </tr>\n  </thead>\n  <tbody>\n    <tr>\n      <th>0</th>\n      <td>be1981ab818cf4ef6765b2ecaea7a2cbf14ccd6e8a7ee9...</td>\n      <td>1895</td>\n    </tr>\n    <tr>\n      <th>1</th>\n      <td>b4db5e5259234574edfff958e170fe3a5e13b6f146752c...</td>\n      <td>1441</td>\n    </tr>\n    <tr>\n      <th>2</th>\n      <td>49beaacac0c7801c2ce2d189efe525fe80b5d37e46ed05...</td>\n      <td>1364</td>\n    </tr>\n    <tr>\n      <th>3</th>\n      <td>a65f77281a528bf5c1e9f270141d601d116e1df33bf9df...</td>\n      <td>1361</td>\n    </tr>\n    <tr>\n      <th>4</th>\n      <td>cd04ec2726dd58a8c753e0d6423e57716fd9ebcf2f14ed...</td>\n      <td>1237</td>\n    </tr>\n    <tr>\n      <th>...</th>\n      <td>...</td>\n      <td>...</td>\n    </tr>\n    <tr>\n      <th>1362276</th>\n      <td>3b9f6e7907566378f605ca45ced5c4d08df27091f223a2...</td>\n      <td>1</td>\n    </tr>\n    <tr>\n      <th>1362277</th>\n      <td>58e3dd1e66addaf7b540f88a0dc77cabd166d8a3daea0c...</td>\n      <td>1</td>\n    </tr>\n    <tr>\n      <th>1362278</th>\n      <td>686cd3eff5482ce6d510378af0fe47f1fe2fda3edd5da2...</td>\n      <td>1</td>\n    </tr>\n    <tr>\n      <th>1362279</th>\n      <td>b3388e406487258ea5182e7d5296b718ce2ecdb30b5922...</td>\n      <td>1</td>\n    </tr>\n    <tr>\n      <th>1362280</th>\n      <td>f657404baef05209e714bd5e6a9ea28fa7ef3ec6b49166...</td>\n      <td>1</td>\n    </tr>\n  </tbody>\n</table>\n<p>1362281 rows × 2 columns</p>\n</div>"
     },
     "execution_count": 30,
     "metadata": {},
     "output_type": "execute_result"
    }
   ],
   "source": [
    "agg"
   ],
   "metadata": {
    "collapsed": false,
    "ExecuteTime": {
     "end_time": "2024-11-20T16:49:26.535039Z",
     "start_time": "2024-11-20T16:49:26.525369Z"
    }
   },
   "id": "9572f0db6a57855f",
   "execution_count": 30
  },
  {
   "cell_type": "code",
   "outputs": [],
   "source": [
    "agg = df.repartition(64).groupby('customer_id').count().orderBy('count', ascending=False).toPandas()"
   ],
   "metadata": {
    "collapsed": false,
    "ExecuteTime": {
     "end_time": "2024-11-20T16:50:25.906971Z",
     "start_time": "2024-11-20T16:49:53.337908Z"
    }
   },
   "id": "699962fedbf1a2e9",
   "execution_count": 31
  },
  {
   "cell_type": "code",
   "outputs": [
    {
     "data": {
      "text/plain": "                                               customer_id  count\n0        be1981ab818cf4ef6765b2ecaea7a2cbf14ccd6e8a7ee9...   1895\n1        b4db5e5259234574edfff958e170fe3a5e13b6f146752c...   1441\n2        49beaacac0c7801c2ce2d189efe525fe80b5d37e46ed05...   1364\n3        a65f77281a528bf5c1e9f270141d601d116e1df33bf9df...   1361\n4        cd04ec2726dd58a8c753e0d6423e57716fd9ebcf2f14ed...   1237\n...                                                    ...    ...\n1362276  3b9f6e7907566378f605ca45ced5c4d08df27091f223a2...      1\n1362277  58e3dd1e66addaf7b540f88a0dc77cabd166d8a3daea0c...      1\n1362278  686cd3eff5482ce6d510378af0fe47f1fe2fda3edd5da2...      1\n1362279  b3388e406487258ea5182e7d5296b718ce2ecdb30b5922...      1\n1362280  f657404baef05209e714bd5e6a9ea28fa7ef3ec6b49166...      1\n\n[1362281 rows x 2 columns]",
      "text/html": "<div>\n<style scoped>\n    .dataframe tbody tr th:only-of-type {\n        vertical-align: middle;\n    }\n\n    .dataframe tbody tr th {\n        vertical-align: top;\n    }\n\n    .dataframe thead th {\n        text-align: right;\n    }\n</style>\n<table border=\"1\" class=\"dataframe\">\n  <thead>\n    <tr style=\"text-align: right;\">\n      <th></th>\n      <th>customer_id</th>\n      <th>count</th>\n    </tr>\n  </thead>\n  <tbody>\n    <tr>\n      <th>0</th>\n      <td>be1981ab818cf4ef6765b2ecaea7a2cbf14ccd6e8a7ee9...</td>\n      <td>1895</td>\n    </tr>\n    <tr>\n      <th>1</th>\n      <td>b4db5e5259234574edfff958e170fe3a5e13b6f146752c...</td>\n      <td>1441</td>\n    </tr>\n    <tr>\n      <th>2</th>\n      <td>49beaacac0c7801c2ce2d189efe525fe80b5d37e46ed05...</td>\n      <td>1364</td>\n    </tr>\n    <tr>\n      <th>3</th>\n      <td>a65f77281a528bf5c1e9f270141d601d116e1df33bf9df...</td>\n      <td>1361</td>\n    </tr>\n    <tr>\n      <th>4</th>\n      <td>cd04ec2726dd58a8c753e0d6423e57716fd9ebcf2f14ed...</td>\n      <td>1237</td>\n    </tr>\n    <tr>\n      <th>...</th>\n      <td>...</td>\n      <td>...</td>\n    </tr>\n    <tr>\n      <th>1362276</th>\n      <td>3b9f6e7907566378f605ca45ced5c4d08df27091f223a2...</td>\n      <td>1</td>\n    </tr>\n    <tr>\n      <th>1362277</th>\n      <td>58e3dd1e66addaf7b540f88a0dc77cabd166d8a3daea0c...</td>\n      <td>1</td>\n    </tr>\n    <tr>\n      <th>1362278</th>\n      <td>686cd3eff5482ce6d510378af0fe47f1fe2fda3edd5da2...</td>\n      <td>1</td>\n    </tr>\n    <tr>\n      <th>1362279</th>\n      <td>b3388e406487258ea5182e7d5296b718ce2ecdb30b5922...</td>\n      <td>1</td>\n    </tr>\n    <tr>\n      <th>1362280</th>\n      <td>f657404baef05209e714bd5e6a9ea28fa7ef3ec6b49166...</td>\n      <td>1</td>\n    </tr>\n  </tbody>\n</table>\n<p>1362281 rows × 2 columns</p>\n</div>"
     },
     "execution_count": 35,
     "metadata": {},
     "output_type": "execute_result"
    }
   ],
   "source": [
    "df.coalesce(24).groupby('customer_id').count().orderBy('count', ascending=False).toPandas()"
   ],
   "metadata": {
    "collapsed": false,
    "ExecuteTime": {
     "end_time": "2024-11-20T16:52:08.013341Z",
     "start_time": "2024-11-20T16:51:51.985203Z"
    }
   },
   "id": "f523961c5d69fbda",
   "execution_count": 35
  },
  {
   "cell_type": "code",
   "outputs": [
    {
     "data": {
      "text/plain": "                                          customer_id  count\n0   be1981ab818cf4ef6765b2ecaea7a2cbf14ccd6e8a7ee9...     32\n1   b4db5e5259234574edfff958e170fe3a5e13b6f146752c...     31\n2   b14bfba3ae0da5af6e9711059773acf713cd7bb9a2c940...     24\n3   124cca5c0e033213924187882bc2b7ece884883402d21a...     23\n4   689f4eda82fdf3d9bfe8e524bbd0d931c4d7690f2234d3...     23\n5   c140410d72a41ee5e2e3ba3d7f5a860f337f1b5e41c27c...     23\n6   570f316b7a55a278bc22b66cff78e09b54f3150407bfed...     23\n7   cd04ec2726dd58a8c753e0d6423e57716fd9ebcf2f14ed...     21\n8   56a37626b0fad499b890a61585c6f8cd9aab7969d86c7e...     21\n9   15a3197b46ff468b8f7333afd973274628e00ac53c735e...     21\n10  da4991d090dbc1bc54c0538104ef2d5dc46ac40b2b0764...     21\n11  efaafb08a00e63ce561a67c31c1ab7e720d4f394a78c47...     21\n12  3493c55a7fe252c84a9a03db338f5be7afbce1edbca12f...     21\n13  2a9b247a2bbee014c862efef7ec5927dd4aa93e43f8397...     20\n14  13aa106eeb8a6fa2f9e2ab888a3a2ee118a3900670f0d8...     20\n15  8df45859ccd71ef1e48e2ee9d1c65d5728c31c46ae957d...     20\n16  9ff538b9a79943aff0eeb492da5330595a57f696099a40...     20\n17  77cdcc11e835b84fdf84df083bc371d326842d4e76cd65...     20\n18  04cf991669c675b7f452446159ec5555d2901b04429ff8...     19\n19  9f74e778439f4e619f107dcb3aa173f640abb2ae46496c...     18\n20  84c34f4f564db1f437943c77af41f83bf6fd7c01701cbb...     18\n21  55d15396193dfd45836af3a6269a079efea339e875eff4...     18\n22  e238725cbff3774b711407cc000f42c0ddabf6b07eb0e3...     18\n23  61f333f21ff1cccd57178e55321b9db5e5295be852ec7e...     18\n24  8ecbac3466886ba06b611fc52dd86762a661f57a7ccd2a...     18\n25  8d570c0428417fa3336ba4576c24dd7ff9d3b3d146c610...     17\n26  157eee38676eebb003bf97407f26e369de192997ab3902...     17\n27  594049546197bf6f7e99903c57be3fbeb9cc3282c39f73...     17\n28  1320d4b3dd6481cde05bb80fb7ca37397f70470b9afb96...     17\n29  21dc541f04d2e07c098fe65c6d5de0c585dd9c15a338ca...     17",
      "text/html": "<div>\n<style scoped>\n    .dataframe tbody tr th:only-of-type {\n        vertical-align: middle;\n    }\n\n    .dataframe tbody tr th {\n        vertical-align: top;\n    }\n\n    .dataframe thead th {\n        text-align: right;\n    }\n</style>\n<table border=\"1\" class=\"dataframe\">\n  <thead>\n    <tr style=\"text-align: right;\">\n      <th></th>\n      <th>customer_id</th>\n      <th>count</th>\n    </tr>\n  </thead>\n  <tbody>\n    <tr>\n      <th>0</th>\n      <td>be1981ab818cf4ef6765b2ecaea7a2cbf14ccd6e8a7ee9...</td>\n      <td>32</td>\n    </tr>\n    <tr>\n      <th>1</th>\n      <td>b4db5e5259234574edfff958e170fe3a5e13b6f146752c...</td>\n      <td>31</td>\n    </tr>\n    <tr>\n      <th>2</th>\n      <td>b14bfba3ae0da5af6e9711059773acf713cd7bb9a2c940...</td>\n      <td>24</td>\n    </tr>\n    <tr>\n      <th>3</th>\n      <td>124cca5c0e033213924187882bc2b7ece884883402d21a...</td>\n      <td>23</td>\n    </tr>\n    <tr>\n      <th>4</th>\n      <td>689f4eda82fdf3d9bfe8e524bbd0d931c4d7690f2234d3...</td>\n      <td>23</td>\n    </tr>\n    <tr>\n      <th>5</th>\n      <td>c140410d72a41ee5e2e3ba3d7f5a860f337f1b5e41c27c...</td>\n      <td>23</td>\n    </tr>\n    <tr>\n      <th>6</th>\n      <td>570f316b7a55a278bc22b66cff78e09b54f3150407bfed...</td>\n      <td>23</td>\n    </tr>\n    <tr>\n      <th>7</th>\n      <td>cd04ec2726dd58a8c753e0d6423e57716fd9ebcf2f14ed...</td>\n      <td>21</td>\n    </tr>\n    <tr>\n      <th>8</th>\n      <td>56a37626b0fad499b890a61585c6f8cd9aab7969d86c7e...</td>\n      <td>21</td>\n    </tr>\n    <tr>\n      <th>9</th>\n      <td>15a3197b46ff468b8f7333afd973274628e00ac53c735e...</td>\n      <td>21</td>\n    </tr>\n    <tr>\n      <th>10</th>\n      <td>da4991d090dbc1bc54c0538104ef2d5dc46ac40b2b0764...</td>\n      <td>21</td>\n    </tr>\n    <tr>\n      <th>11</th>\n      <td>efaafb08a00e63ce561a67c31c1ab7e720d4f394a78c47...</td>\n      <td>21</td>\n    </tr>\n    <tr>\n      <th>12</th>\n      <td>3493c55a7fe252c84a9a03db338f5be7afbce1edbca12f...</td>\n      <td>21</td>\n    </tr>\n    <tr>\n      <th>13</th>\n      <td>2a9b247a2bbee014c862efef7ec5927dd4aa93e43f8397...</td>\n      <td>20</td>\n    </tr>\n    <tr>\n      <th>14</th>\n      <td>13aa106eeb8a6fa2f9e2ab888a3a2ee118a3900670f0d8...</td>\n      <td>20</td>\n    </tr>\n    <tr>\n      <th>15</th>\n      <td>8df45859ccd71ef1e48e2ee9d1c65d5728c31c46ae957d...</td>\n      <td>20</td>\n    </tr>\n    <tr>\n      <th>16</th>\n      <td>9ff538b9a79943aff0eeb492da5330595a57f696099a40...</td>\n      <td>20</td>\n    </tr>\n    <tr>\n      <th>17</th>\n      <td>77cdcc11e835b84fdf84df083bc371d326842d4e76cd65...</td>\n      <td>20</td>\n    </tr>\n    <tr>\n      <th>18</th>\n      <td>04cf991669c675b7f452446159ec5555d2901b04429ff8...</td>\n      <td>19</td>\n    </tr>\n    <tr>\n      <th>19</th>\n      <td>9f74e778439f4e619f107dcb3aa173f640abb2ae46496c...</td>\n      <td>18</td>\n    </tr>\n    <tr>\n      <th>20</th>\n      <td>84c34f4f564db1f437943c77af41f83bf6fd7c01701cbb...</td>\n      <td>18</td>\n    </tr>\n    <tr>\n      <th>21</th>\n      <td>55d15396193dfd45836af3a6269a079efea339e875eff4...</td>\n      <td>18</td>\n    </tr>\n    <tr>\n      <th>22</th>\n      <td>e238725cbff3774b711407cc000f42c0ddabf6b07eb0e3...</td>\n      <td>18</td>\n    </tr>\n    <tr>\n      <th>23</th>\n      <td>61f333f21ff1cccd57178e55321b9db5e5295be852ec7e...</td>\n      <td>18</td>\n    </tr>\n    <tr>\n      <th>24</th>\n      <td>8ecbac3466886ba06b611fc52dd86762a661f57a7ccd2a...</td>\n      <td>18</td>\n    </tr>\n    <tr>\n      <th>25</th>\n      <td>8d570c0428417fa3336ba4576c24dd7ff9d3b3d146c610...</td>\n      <td>17</td>\n    </tr>\n    <tr>\n      <th>26</th>\n      <td>157eee38676eebb003bf97407f26e369de192997ab3902...</td>\n      <td>17</td>\n    </tr>\n    <tr>\n      <th>27</th>\n      <td>594049546197bf6f7e99903c57be3fbeb9cc3282c39f73...</td>\n      <td>17</td>\n    </tr>\n    <tr>\n      <th>28</th>\n      <td>1320d4b3dd6481cde05bb80fb7ca37397f70470b9afb96...</td>\n      <td>17</td>\n    </tr>\n    <tr>\n      <th>29</th>\n      <td>21dc541f04d2e07c098fe65c6d5de0c585dd9c15a338ca...</td>\n      <td>17</td>\n    </tr>\n  </tbody>\n</table>\n</div>"
     },
     "execution_count": 18,
     "metadata": {},
     "output_type": "execute_result"
    }
   ],
   "source": [
    "agg.head(30)"
   ],
   "metadata": {
    "collapsed": false,
    "ExecuteTime": {
     "end_time": "2024-11-20T16:31:52.224620Z",
     "start_time": "2024-11-20T16:31:52.206460Z"
    }
   },
   "id": "448b16143a76fa9e",
   "execution_count": 18
  },
  {
   "cell_type": "code",
   "outputs": [
    {
     "data": {
      "text/plain": "482189"
     },
     "execution_count": 38,
     "metadata": {},
     "output_type": "execute_result"
    }
   ],
   "source": [
    "df.count()"
   ],
   "metadata": {
    "collapsed": false,
    "ExecuteTime": {
     "end_time": "2024-11-20T16:55:56.513091Z",
     "start_time": "2024-11-20T16:55:56.391327Z"
    }
   },
   "id": "efbc3e0010502bf0",
   "execution_count": 38
  },
  {
   "cell_type": "code",
   "outputs": [
    {
     "data": {
      "text/plain": "DataFrame[t_dat: timestamp, customer_id: string, article_id: int, price: double, sales_channel_id: int]"
     },
     "execution_count": 43,
     "metadata": {},
     "output_type": "execute_result"
    }
   ],
   "source": [
    "df"
   ],
   "metadata": {
    "collapsed": false,
    "ExecuteTime": {
     "end_time": "2024-11-20T17:00:28.132345Z",
     "start_time": "2024-11-20T17:00:28.124671Z"
    }
   },
   "id": "fc1998ef52e89f44",
   "execution_count": 43
  },
  {
   "cell_type": "code",
   "outputs": [],
   "source": [
    "df = df.withColumn('date', F.col('t_dat').cast(DateType()))"
   ],
   "metadata": {
    "collapsed": false,
    "ExecuteTime": {
     "end_time": "2024-11-20T17:01:08.700356Z",
     "start_time": "2024-11-20T17:01:08.686057Z"
    }
   },
   "id": "5cf587ec2aa30202",
   "execution_count": 48
  },
  {
   "cell_type": "code",
   "outputs": [],
   "source": [
    "df.write.partitionBy('date').mode('overwrite').parquet('../data/hm/processed/transactions')"
   ],
   "metadata": {
    "collapsed": false,
    "ExecuteTime": {
     "end_time": "2024-11-20T17:01:52.818937Z",
     "start_time": "2024-11-20T17:01:51.423094Z"
    }
   },
   "id": "94a2b95c549d065f",
   "execution_count": 49
  },
  {
   "cell_type": "code",
   "outputs": [],
   "source": [],
   "metadata": {
    "collapsed": false
   },
   "id": "7a14bdac8e2fb8df"
  }
 ],
 "metadata": {
  "kernelspec": {
   "display_name": "Python 3",
   "language": "python",
   "name": "python3"
  },
  "language_info": {
   "codemirror_mode": {
    "name": "ipython",
    "version": 2
   },
   "file_extension": ".py",
   "mimetype": "text/x-python",
   "name": "python",
   "nbconvert_exporter": "python",
   "pygments_lexer": "ipython2",
   "version": "2.7.6"
  }
 },
 "nbformat": 4,
 "nbformat_minor": 5
}
