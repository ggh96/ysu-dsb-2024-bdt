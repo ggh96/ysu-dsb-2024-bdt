{
 "cells": [
  {
   "cell_type": "code",
   "outputs": [],
   "source": [
    "from pyspark.sql import SparkSession\n",
    "import pyspark.sql.functions as F\n",
    "from pyspark.sql.types import *"
   ],
   "metadata": {
    "collapsed": false,
    "ExecuteTime": {
     "end_time": "2024-12-11T15:49:11.891165Z",
     "start_time": "2024-12-11T15:49:11.224870Z"
    }
   },
   "id": "a84cff3f3a0d3b1e",
   "execution_count": 1
  },
  {
   "cell_type": "code",
   "outputs": [],
   "source": [
    "# spark parameters\n",
    "# join\n",
    "# non-structured data"
   ],
   "metadata": {
    "collapsed": false,
    "ExecuteTime": {
     "end_time": "2024-12-11T15:49:11.906084Z",
     "start_time": "2024-12-11T15:49:11.893275Z"
    }
   },
   "id": "b16d1fb88dd67e79",
   "execution_count": 2
  },
  {
   "cell_type": "code",
   "outputs": [],
   "source": [
    "spark = SparkSession\\\n",
    "    .builder\\\n",
    "    .appName(\"lecture-13-app\")\\\n",
    "    .master(\"local[8]\").getOrCreate()"
   ],
   "metadata": {
    "collapsed": false,
    "ExecuteTime": {
     "end_time": "2024-12-11T15:49:44.003077Z",
     "start_time": "2024-12-11T15:49:36.762111Z"
    }
   },
   "id": "d52748c87c31ddbd",
   "execution_count": 3
  },
  {
   "cell_type": "code",
   "outputs": [
    {
     "data": {
      "text/plain": "'3.3.0'"
     },
     "execution_count": 4,
     "metadata": {},
     "output_type": "execute_result"
    }
   ],
   "source": [
    "import pyspark\n",
    "pyspark.__version__"
   ],
   "metadata": {
    "collapsed": false,
    "ExecuteTime": {
     "end_time": "2024-12-11T15:51:00.044158Z",
     "start_time": "2024-12-11T15:51:00.012776Z"
    }
   },
   "id": "dd5c77077451151b",
   "execution_count": 4
  },
  {
   "cell_type": "code",
   "outputs": [
    {
     "data": {
      "text/plain": "'200'"
     },
     "execution_count": 11,
     "metadata": {},
     "output_type": "execute_result"
    }
   ],
   "source": [
    "spark.conf.get('spark.sql.shuffle.partitions')"
   ],
   "metadata": {
    "collapsed": false,
    "ExecuteTime": {
     "end_time": "2024-12-11T15:54:50.258616Z",
     "start_time": "2024-12-11T15:54:50.241001Z"
    }
   },
   "id": "d72f6c8e0c0fef72",
   "execution_count": 11
  },
  {
   "cell_type": "code",
   "outputs": [],
   "source": [
    "spark.conf.set('spark.sql.autoBroadcastJoinThreshold', '1MB')"
   ],
   "metadata": {
    "collapsed": false,
    "ExecuteTime": {
     "end_time": "2024-12-11T16:25:16.499328Z",
     "start_time": "2024-12-11T16:25:16.487063Z"
    }
   },
   "id": "e48a5d7f2b8d5cf1",
   "execution_count": 27
  },
  {
   "cell_type": "code",
   "outputs": [],
   "source": [
    "df = spark.read.csv('../data/hm/exam/transactions.csv', header=True, inferSchema=True)\n"
   ],
   "metadata": {
    "collapsed": false,
    "ExecuteTime": {
     "end_time": "2024-12-11T16:25:21.917615Z",
     "start_time": "2024-12-11T16:25:21.128273Z"
    }
   },
   "id": "23bc9aaab455b33",
   "execution_count": 28
  },
  {
   "cell_type": "code",
   "outputs": [],
   "source": [
    "articles = spark.read.csv('../data/hm/exam/articles.csv', header=True, inferSchema=True).select('article_id', 'prod_name')"
   ],
   "metadata": {
    "collapsed": false,
    "ExecuteTime": {
     "end_time": "2024-12-11T16:25:22.938653Z",
     "start_time": "2024-12-11T16:25:22.569710Z"
    }
   },
   "id": "b8ac51ad9669c070",
   "execution_count": 29
  },
  {
   "cell_type": "code",
   "outputs": [],
   "source": [
    "df_l_l = df.join(articles, how='full')"
   ],
   "metadata": {
    "collapsed": false,
    "ExecuteTime": {
     "end_time": "2024-12-11T16:40:29.317249Z",
     "start_time": "2024-12-11T16:40:29.290816Z"
    }
   },
   "id": "d91f16db830a10",
   "execution_count": 40
  },
  {
   "cell_type": "code",
   "outputs": [
    {
     "name": "stdout",
     "output_type": "stream",
     "text": [
      "== Physical Plan ==\n",
      "AdaptiveSparkPlan isFinalPlan=false\n",
      "+- BroadcastNestedLoopJoin BuildRight, FullOuter\n",
      "   :- FileScan csv [t_dat#232,customer_id#233,article_id#234,price#235,sales_channel_id#236] Batched: false, DataFilters: [], Format: CSV, Location: InMemoryFileIndex(1 paths)[file:/C:/Users/gghalachyan/PycharmProjects/ysu-spark/data/hm/exam/tran..., PartitionFilters: [], PushedFilters: [], ReadSchema: struct<t_dat:timestamp,customer_id:string,article_id:int,price:double,sales_channel_id:int>\n",
      "   +- BroadcastExchange IdentityBroadcastMode, [id=#307]\n",
      "      +- FileScan csv [article_id#259,prod_name#261] Batched: false, DataFilters: [], Format: CSV, Location: InMemoryFileIndex(1 paths)[file:/C:/Users/gghalachyan/PycharmProjects/ysu-spark/data/hm/exam/arti..., PartitionFilters: [], PushedFilters: [], ReadSchema: struct<article_id:int,prod_name:string>\n"
     ]
    }
   ],
   "source": [
    "df_l_l.explain() "
   ],
   "metadata": {
    "collapsed": false,
    "ExecuteTime": {
     "end_time": "2024-12-11T16:40:30.642159Z",
     "start_time": "2024-12-11T16:40:30.610817Z"
    }
   },
   "id": "24c6079c26caf343",
   "execution_count": 41
  },
  {
   "cell_type": "code",
   "outputs": [],
   "source": [
    "# equi-join\n",
    "# non equi-join\n",
    "\n",
    "# Broadcast Nested Loop Join\n",
    "\n",
    "# cartesian product"
   ],
   "metadata": {
    "collapsed": false,
    "ExecuteTime": {
     "end_time": "2024-12-11T16:41:36.796848Z",
     "start_time": "2024-12-11T16:41:36.777061Z"
    }
   },
   "id": "501dbcbabe5adfac",
   "execution_count": 42
  },
  {
   "cell_type": "code",
   "outputs": [
    {
     "data": {
      "text/plain": "'true'"
     },
     "execution_count": 43,
     "metadata": {},
     "output_type": "execute_result"
    }
   ],
   "source": [
    "# adaptive query optimization - AQL\n",
    "spark.conf.get('spark.sql.adaptive.enabled')"
   ],
   "metadata": {
    "collapsed": false,
    "ExecuteTime": {
     "end_time": "2024-12-11T16:42:51.891779Z",
     "start_time": "2024-12-11T16:42:51.875476Z"
    }
   },
   "id": "cfd1e3e52c20d363",
   "execution_count": 43
  },
  {
   "cell_type": "markdown",
   "source": [
    "When true, enable adaptive query execution, which re-optimizes the query plan in the middle of query execution, based on accurate runtime statistics."
   ],
   "metadata": {
    "collapsed": false
   },
   "id": "8f5dfd0e9f04a739"
  },
  {
   "cell_type": "code",
   "outputs": [],
   "source": [
    "# spark.sql.adaptive.skewJoin.enabled \n",
    "# data salting\n",
    "# non-structured data map array\n",
    "# date"
   ],
   "metadata": {
    "collapsed": false
   },
   "id": "3c6b038ace43c29c"
  }
 ],
 "metadata": {
  "kernelspec": {
   "display_name": "Python 3",
   "language": "python",
   "name": "python3"
  },
  "language_info": {
   "codemirror_mode": {
    "name": "ipython",
    "version": 2
   },
   "file_extension": ".py",
   "mimetype": "text/x-python",
   "name": "python",
   "nbconvert_exporter": "python",
   "pygments_lexer": "ipython2",
   "version": "2.7.6"
  }
 },
 "nbformat": 4,
 "nbformat_minor": 5
}
